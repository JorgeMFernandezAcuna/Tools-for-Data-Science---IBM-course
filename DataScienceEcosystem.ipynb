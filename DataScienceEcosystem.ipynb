{
 "cells": [
  {
   "cell_type": "markdown",
   "id": "cbfbbbea-f3b5-4457-8d34-81b1ad05eff4",
   "metadata": {},
   "source": [
    "<h1> Data Science Tools and Ecosystem <h1>"
   ]
  },
  {
   "cell_type": "markdown",
   "id": "c18277e2-0ad3-4591-8308-c0b0e96f1ab6",
   "metadata": {},
   "source": [
    "This is an exercise in the Tools for Data Science course."
   ]
  },
  {
   "cell_type": "markdown",
   "id": "c1cf8dee-a7d8-4b84-9ea7-f25fddd4c0f7",
   "metadata": {},
   "source": [
    "**Objectives:**\n",
    "- Languages used in Data Science\n",
    "- Libraries used in Data Science\n",
    "- Development environment open source tools\n",
    "- arithmetic examples"
   ]
  },
  {
   "cell_type": "markdown",
   "id": "ca7fb598-ca93-4555-9683-da495ff63322",
   "metadata": {},
   "source": [
    "Some of the popular languages that Data Scientists use are:\n",
    "1. Pyhton\n",
    "2. R\n",
    "3. JavaScript\n",
    "4. Julia"
   ]
  },
  {
   "cell_type": "markdown",
   "id": "aa8d2f90-502a-4041-a3bf-9610041d002b",
   "metadata": {},
   "source": [
    "Some of the commonly used libraries used by Data Scientists include:\n",
    "1. NumPy\n",
    "2. Pandas\n",
    "3. Matplotlib\n",
    "4. SciKit-Learn"
   ]
  },
  {
   "cell_type": "markdown",
   "id": "109e8f40-bde8-4afe-b68c-088913d07a68",
   "metadata": {},
   "source": [
    "|Data Science Tools|\n",
    "--------------------\n",
    "|RStudio|\n",
    "|Apache Spark|\n",
    "|Apache Hadoop|\n",
    "--------------------"
   ]
  },
  {
   "cell_type": "markdown",
   "id": "f5d4e6a1-0673-455e-9de1-3547b6b89008",
   "metadata": {},
   "source": [
    "<h3>Below are a few examples of evaluating arithmetic expressions in Python<h3>"
   ]
  },
  {
   "cell_type": "code",
   "execution_count": 3,
   "id": "ab6bce94-fd0f-4436-8fd2-b14ec3cd249e",
   "metadata": {},
   "outputs": [
    {
     "data": {
      "text/plain": [
       "17"
      ]
     },
     "execution_count": 3,
     "metadata": {},
     "output_type": "execute_result"
    }
   ],
   "source": [
    "(3*4)+5 #This a simple arithmetic expression to mutiply then add integers"
   ]
  },
  {
   "cell_type": "code",
   "execution_count": 4,
   "id": "1d8fe598-55cd-4318-8615-c1342cb54851",
   "metadata": {},
   "outputs": [
    {
     "data": {
      "text/plain": [
       "3.3333333333333335"
      ]
     },
     "execution_count": 4,
     "metadata": {},
     "output_type": "execute_result"
    }
   ],
   "source": [
    "200/60 #This will convert 200 minutes to hours by diving by 60"
   ]
  },
  {
   "cell_type": "markdown",
   "id": "5a7ef55f-fe4a-463f-ae97-16f873111cf6",
   "metadata": {},
   "source": [
    "## Author\n",
    "Jorge M. Fernández Acuña"
   ]
  },
  {
   "cell_type": "code",
   "execution_count": null,
   "id": "b91a800d-9134-4f36-86af-a96e4452adf6",
   "metadata": {},
   "outputs": [],
   "source": []
  }
 ],
 "metadata": {
  "kernelspec": {
   "display_name": "Python 3 (ipykernel)",
   "language": "python",
   "name": "python3"
  },
  "language_info": {
   "codemirror_mode": {
    "name": "ipython",
    "version": 3
   },
   "file_extension": ".py",
   "mimetype": "text/x-python",
   "name": "python",
   "nbconvert_exporter": "python",
   "pygments_lexer": "ipython3",
   "version": "3.9.12"
  }
 },
 "nbformat": 4,
 "nbformat_minor": 5
}
